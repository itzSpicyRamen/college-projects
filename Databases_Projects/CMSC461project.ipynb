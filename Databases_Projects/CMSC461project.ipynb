{
 "cells": [
  {
   "cell_type": "code",
   "execution_count": 12,
   "id": "ed08e8f1",
   "metadata": {},
   "outputs": [
    {
     "name": "stdout",
     "output_type": "stream",
     "text": [
      "Requirement already satisfied: mysql-connector-python in c:\\users\\lukec\\anaconda3\\lib\\site-packages (8.0.30)\n",
      "Requirement already satisfied: protobuf<=3.20.1,>=3.11.0 in c:\\users\\lukec\\anaconda3\\lib\\site-packages (from mysql-connector-python) (3.19.1)\n"
     ]
    }
   ],
   "source": [
    "!pip install mysql-connector-python"
   ]
  },
  {
   "cell_type": "code",
   "execution_count": 16,
   "id": "dd4bd6d9",
   "metadata": {},
   "outputs": [],
   "source": [
    "import mysql.connector"
   ]
  },
  {
   "cell_type": "code",
   "execution_count": null,
   "id": "00149530",
   "metadata": {},
   "outputs": [
    {
     "name": "stdout",
     "output_type": "stream",
     "text": [
      "Enter username········\n"
     ]
    }
   ],
   "source": [
    "import getpass\n",
    "db_user = getpass.getpass('Enter username')\n",
    "db_password = getpass.getpass('Enter password')"
   ]
  },
  {
   "cell_type": "code",
   "execution_count": null,
   "id": "794f8c92",
   "metadata": {},
   "outputs": [],
   "source": [
    "config = {\n",
    "   'user': db_user,\n",
    "   'password': db_password,\n",
    "   'host': 'localhost',\n",
    "   'port': 3306,\n",
    "   'database': 'university',\n",
    "   'raise_on_warnings': True                    \n",
    "}"
   ]
  },
  {
   "cell_type": "code",
   "execution_count": null,
   "id": "94bf670f",
   "metadata": {},
   "outputs": [],
   "source": [
    "db_connection = mysql.connector.connect(**config)"
   ]
  },
  {
   "cell_type": "code",
   "execution_count": null,
   "id": "35ad3987",
   "metadata": {},
   "outputs": [],
   "source": [
    "cur = db_connection.cursor()"
   ]
  },
  {
   "cell_type": "markdown",
   "id": "1c9b5167",
   "metadata": {},
   "source": [
    "# Activity 1"
   ]
  },
  {
   "cell_type": "markdown",
   "id": "1d533d8d",
   "metadata": {},
   "source": [
    "Suppose you are a staff member wanting to create a new ballot. In this database system, there are a couple elements to consider. First, the staff must create a ballot with a specified unique 4 character name and time frame as such below."
   ]
  },
  {
   "cell_type": "code",
   "execution_count": null,
   "id": "6b2689d9",
   "metadata": {},
   "outputs": [],
   "source": [
    "query = \"INSERT INTO ballots(ballot_name, date_start, date_end) VALUES ('NUM1', '2022-11-01 00:00:00', '2022-12-01 11:59:00');\"\n",
    "cur.execute(query)"
   ]
  },
  {
   "cell_type": "markdown",
   "id": "3fe748a0",
   "metadata": {},
   "source": [
    "Next the staff will need to add questions to the ballot. A ballot can have multiple questions. A ballot question must contain\n",
    "the ballot name, questions number, and question text."
   ]
  },
  {
   "cell_type": "code",
   "execution_count": null,
   "id": "f2699e7e",
   "metadata": {},
   "outputs": [],
   "source": [
    "query = \"INSERT INTO ballot_questions(ballot_name, question_num, question_text)\\ \n",
    "VALUES('NUM1', '1', 'Are cats better than dogs?');\"\n",
    "cur.execute(query)"
   ]
  },
  {
   "cell_type": "markdown",
   "id": "56437608",
   "metadata": {},
   "source": [
    "Now a new ballot has been made and will be available for a folk to vote on if they choose to do so."
   ]
  },
  {
   "cell_type": "markdown",
   "id": "1d825ebe",
   "metadata": {},
   "source": [
    "# Activity 2"
   ]
  },
  {
   "cell_type": "markdown",
   "id": "cade9234",
   "metadata": {},
   "source": [
    "Now that a new ballot has been made, suppose a folk would like to register for the new ballot. To register for a ballot, the folk must supply the ballot name, center acronym, their id, and voting date."
   ]
  },
  {
   "cell_type": "code",
   "execution_count": null,
   "id": "24d50cc6",
   "metadata": {},
   "outputs": [],
   "source": [
    "query = \"INSERT INTO registry(ballot_name, center_acronym, folk_id, voting_date)\\\n",
    "VALUES('NUM1', 'UMBC', '0000000000000000', '2022-11-01');\"\n",
    "cur.execute(query)"
   ]
  },
  {
   "cell_type": "markdown",
   "id": "86fd3445",
   "metadata": {},
   "source": [
    "Now the folk has been register to the newly created ballot and can now cast a vote for the ballot."
   ]
  },
  {
   "cell_type": "markdown",
   "id": "c45780ca",
   "metadata": {},
   "source": [
    "# Activity 3"
   ]
  },
  {
   "cell_type": "markdown",
   "id": "3b21b7f7",
   "metadata": {},
   "source": [
    "Now that the ballot has been created and a folk has registered for the ballot, the folk can now cast a vote for the ballot \n",
    "question. To cast a vote, the folk must provide the ballot name, voting center acronym, their id, the id of the monitor working\n",
    "at the voting cetner that day, and the date they cast their ballot."
   ]
  },
  {
   "cell_type": "code",
   "execution_count": null,
   "id": "40386554",
   "metadata": {},
   "outputs": [],
   "source": [
    "query = \"INSERT INTO casted_vote(ballot_name, center_acronym, folk_id, monitor_id, cast_date)\n",
    "VALUES('NUM1', 'UMBC', '0000000000000000', '1000000000000000', '2022-11-01');\"\n",
    "cur.execute(query)"
   ]
  },
  {
   "cell_type": "markdown",
   "id": "21820a84",
   "metadata": {},
   "source": [
    "# Activity 4"
   ]
  },
  {
   "cell_type": "markdown",
   "id": "87031d29",
   "metadata": {},
   "source": [
    "A staff can also update the availability period of a ballot"
   ]
  },
  {
   "cell_type": "code",
   "execution_count": null,
   "id": "322258e8",
   "metadata": {},
   "outputs": [],
   "source": [
    "query = \"UPDATE ballots SET date_start = '2022-12-01 00:00:00', date_end = '2022-12-30 00:00:00' WHERE\\\n",
    "ballot_name = 'NUM1';\"\n",
    "cur.execute(query)"
   ]
  },
  {
   "cell_type": "markdown",
   "id": "0137709f",
   "metadata": {},
   "source": [
    "# Activity 5"
   ]
  },
  {
   "cell_type": "markdown",
   "id": "44290c3e",
   "metadata": {},
   "source": [
    "A staff can also remove a folk. To do this, the staff must first delete any extra information dependant on the folk's profile\n",
    "existing. This includes things like their phone numbers, email addresses, and other things of that nature."
   ]
  },
  {
   "cell_type": "code",
   "execution_count": null,
   "id": "0d99c7d7",
   "metadata": {},
   "outputs": [],
   "source": [
    "query = \"DELETE FROM folk_emailAddrs WHERE folk_id = '0000000000000000';\"\n",
    "cur.execute(query)\n",
    "query = \"DELETE FROM folk_phoneNums WHERE folk_id = '0000000000000000';\"\n",
    "cur.execute(query)\n",
    "query = \"DELETE FROM resides_at WHERE folk_id = '0000000000000000';\"\n",
    "cur.execute(query)\n",
    "query = \"DELETE FROM ballot_answers WHERE folk_id = '0000000000000000';\"\n",
    "cur.execute(query)\n",
    "query = \"DELETE FROM casted_vote WHERE folk_id = '0000000000000000';\"\n",
    "cur.execute(query)\n",
    "query = \"DELETE FROM registry WHERE folk_id = '0000000000000000';\"\n",
    "cur.execute(query)\n",
    "query = \"DELETE FROM folk WHERE folk_id = '0000000000000000';\"\n",
    "cur.execute(query)"
   ]
  },
  {
   "cell_type": "markdown",
   "id": "9161343f",
   "metadata": {},
   "source": [
    "# Queries"
   ]
  },
  {
   "cell_type": "code",
   "execution_count": null,
   "id": "e2b25a6d",
   "metadata": {},
   "outputs": [],
   "source": [
    "query = \"SELECT first_name, last_name, email, addr_city \\\n",
    "FROM folk INNER JOIN folk_emailaddrs INNER JOIN resides_at\\ \n",
    "WHERE folk.folk_id = folk_emailaddrs.folk_id AND folk.folk_id = resides_at.folk_id;\"\n",
    "cur.execute(query)"
   ]
  },
  {
   "cell_type": "code",
   "execution_count": null,
   "id": "d7c85189",
   "metadata": {},
   "outputs": [],
   "source": [
    "query = \"SELECT addr_city, addr_state, COUNT(*)\\\n",
    "FROM resides_at\\\n",
    "GROUP BY addr_city\\\n",
    "ORDER BY COUNT(*) DESC;\"\n",
    "cur.execute(query)"
   ]
  },
  {
   "cell_type": "code",
   "execution_count": null,
   "id": "6d75feab",
   "metadata": {},
   "outputs": [],
   "source": [
    "query = \"SELECT place.addr_state, COUNT(*)\\\n",
    "FROM place INNER JOIN residence\\\n",
    "WHERE place.addr_state = residence.addr_state AND place.addr_city = residence.addr_city AND \\\n",
    "place.addr_street_number = residence.addr_street_number AND place.addr_street_name = residence.addr_street_name\\\n",
    "GROUP BY place.addr_state\\\n",
    "ORDER BY place.addr_state;\"\n",
    "cur.execute(query)"
   ]
  },
  {
   "cell_type": "code",
   "execution_count": null,
   "id": "2fc38abf",
   "metadata": {},
   "outputs": [],
   "source": [
    "query = \"SELECT folk.folk_id, registry.voting_date\\\n",
    "FROM folk INNER JOIN registry\\\n",
    "WHERE folk.folk_id = registry.folk_id;\"\n",
    "cur.execute(query)"
   ]
  },
  {
   "cell_type": "code",
   "execution_count": null,
   "id": "b65e9060",
   "metadata": {},
   "outputs": [],
   "source": [
    "query = \"SELECT voting_center.center_acronym, COUNT(*)\\\n",
    "FROM voting_center INNER JOIN place INNER JOIN place_coords INNER JOIN registry\\\n",
    "WHERE place.addr_state = voting_center.addr_state AND place.addr_city = voting_center.addr_city AND \\\n",
    "place.addr_street_number = voting_center.addr_street_number AND place.addr_street_name = voting_center.addr_street_name\\\n",
    "AND place.coord_id = place_coords.coord_id\\\n",
    "AND (SQRT( POW(place_coords.Y, 2) + POW(place_coords.X, 2) ) <= 5)\\\n",
    "AND registry.center_acronym = voting_center.center_acronym \\\n",
    "AND MONTH(registry.voting_date) = 11\\\n",
    "GROUP BY voting_center.center_acronym\\\n",
    "ORDER BY COUNT(*);\"\n",
    "cur.execute(query)"
   ]
  },
  {
   "cell_type": "code",
   "execution_count": null,
   "id": "a4c9f0f0",
   "metadata": {},
   "outputs": [],
   "source": [
    "query = \"SELECT voting_center.center_acronym, place.addr_city, COUNT(*) as c\\\n",
    "FROM voting_center INNER JOIN place INNER JOIN registry\\\n",
    "WHERE voting_center.center_acronym = registry.center_acronym\\\n",
    "AND MONTH(registry.voting_date) = 11 AND (1 <= DAY(registry.voting_date) <= 30)\\\n",
    "AND place.addr_state = voting_center.addr_state AND place.addr_city = voting_center.addr_city AND \\\n",
    "place.addr_street_number = voting_center.addr_street_number AND place.addr_street_name = voting_center.addr_street_name\\\n",
    "GROUP BY place.addr_city\\\n",
    "ORDER BY c DESC;\"\n",
    "cur.execute(query)"
   ]
  },
  {
   "cell_type": "code",
   "execution_count": null,
   "id": "5ce48795",
   "metadata": {},
   "outputs": [],
   "source": [
    "query = \"SELECT folk.folk_id, voting_center.addr_state\\\n",
    "FROM folk INNER JOIN registry ON folk.folk_id = registry.folk_id INNER JOIN voting_center ON voting_center.center_acronym = registry.center_acronym\\\n",
    "WHERE registry.center_acronym = voting_center.center_acronym AND folk.folk_id = registry.folk_id AND voting_center.addr_state = 'Maryland'\\\n",
    "GROUP BY folk.folk_id, registry.center_acronym\\\n",
    "HAVING COUNT(*) = COUNT(DISTINCT voting_center.center_acronym);\"\n",
    "cur.execute(query)"
   ]
  },
  {
   "cell_type": "code",
   "execution_count": null,
   "id": "26bf9cbe",
   "metadata": {},
   "outputs": [],
   "source": [
    "query = \"WITH reg_tab AS (SELECT place_coords.X, place_coords.Y, voting_center.center_acronym, folk.folk_id\\\n",
    "FROM voting_center INNER JOIN place_coords INNER JOIN place INNER JOIN registry INNER JOIN folk\\\n",
    "WHERE place.coord_id = place_coords.coord_id\\\n",
    "AND place.addr_state = voting_center.addr_state AND place.addr_city = voting_center.addr_city \\\n",
    "AND place.addr_state = voting_center.addr_state AND place.addr_street_number = voting_center.addr_street_number\\\n",
    "AND registry.center_acronym = voting_center.center_acronym\\\n",
    "AND registry.folk_id = folk.folk_id\\\n",
    "ORDER BY voting_center.center_acronym),\\\n",
    "res_tab AS (SELECT place_coords.X, place_coords.Y, folk.folk_id\\\n",
    "FROM resides_at INNER JOIN place_coords INNER JOIN place INNER JOIN folk\\\n",
    "WHERE place.coord_id = place_coords.coord_id\\\n",
    "AND place.addr_state = resides_at.addr_state AND place.addr_city = resides_at.addr_city \\\n",
    "AND place.addr_state = resides_at.addr_state AND place.addr_street_number = resides_at.addr_street_number\\\n",
    "AND resides_at.folk_id = folk.folk_id\\\n",
    "GROUP BY folk.folk_id)\\\n",
    "SELECT folk.folk_id, res_tab.X, res_tab.Y, reg_tab.X, reg_tab.Y\\\n",
    "FROM folk, res_tab, reg_tab\\\n",
    "WHERE res_tab.folk_id = reg_tab.folk_id\\\n",
    "AND res_tab.folk_id = folk.folk_id\\\n",
    "AND (SQRT( POW(reg_tab.Y-res_tab.Y, 2) + POW(reg_tab.X-res_tab.X, 2) ) > 0)\\\n",
    "GROUP BY folk.folk_id;\"\n",
    "cur.execute(query)"
   ]
  },
  {
   "cell_type": "code",
   "execution_count": null,
   "id": "2e1e38d7",
   "metadata": {},
   "outputs": [],
   "source": [
    "query = \"WITH vc_tab AS (SELECT place_coords.X, place_coords.Y, voting_center.center_acronym\\\n",
    "FROM voting_center INNER JOIN place_coords INNER JOIN place INNER JOIN folk\\\n",
    "WHERE place.coord_id = place_coords.coord_id\\\n",
    "AND place.addr_state = voting_center.addr_state AND place.addr_city = voting_center.addr_city \\\n",
    "AND place.addr_state = voting_center.addr_state AND place.addr_street_number = voting_center.addr_street_number\\\n",
    "ORDER BY voting_center.center_acronym),\\\n",
    "res_tab AS (SELECT place_coords.X, place_coords.Y, folk.folk_id\\\n",
    "FROM resides_at INNER JOIN place_coords INNER JOIN place INNER JOIN folk\\\n",
    "WHERE place.coord_id = place_coords.coord_id\\\n",
    "AND place.addr_state = resides_at.addr_state AND place.addr_city = resides_at.addr_city \\\n",
    "AND place.addr_state = resides_at.addr_state AND place.addr_street_number = resides_at.addr_street_number\\\n",
    "AND resides_at.folk_id = folk.folk_id\\\n",
    "GROUP BY folk.folk_id)\\\n",
    "SELECT vc_tab.center_acronym, folk.folk_id, (SQRT( POW(vc_tab.Y-res_tab.Y, 2) + POW(vc_tab.X-res_tab.X, 2) )) AS distance\\\n",
    "FROM folk INNER JOIN vc_tab INNER JOIN res_tab INNER JOIN operating_period INNER JOIN voting_center\\\n",
    "WHERE DATE(operating_period.date_start) <= '2022-11-01 08:00:00' <= DATE(operating_period.date_end)\\\n",
    "AND folk.folk_id = res_tab.folk_id\\\n",
    "AND voting_center.center_acronym = vc_tab.center_acronym\\\n",
    "GROUP BY voting_center.center_acronym\\\n",
    "ORDER BY distance ASC;\"\n",
    "cur.execute(query)"
   ]
  },
  {
   "cell_type": "code",
   "execution_count": null,
   "id": "0aa128a4",
   "metadata": {},
   "outputs": [],
   "source": []
  },
  {
   "cell_type": "code",
   "execution_count": null,
   "id": "c9d179c8",
   "metadata": {},
   "outputs": [],
   "source": []
  }
 ],
 "metadata": {
  "kernelspec": {
   "display_name": "Python 3 (ipykernel)",
   "language": "python",
   "name": "python3"
  },
  "language_info": {
   "codemirror_mode": {
    "name": "ipython",
    "version": 3
   },
   "file_extension": ".py",
   "mimetype": "text/x-python",
   "name": "python",
   "nbconvert_exporter": "python",
   "pygments_lexer": "ipython3",
   "version": "3.9.12"
  }
 },
 "nbformat": 4,
 "nbformat_minor": 5
}
